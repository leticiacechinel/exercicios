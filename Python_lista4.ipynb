{
 "cells": [
  {
   "cell_type": "code",
   "execution_count": 3,
   "metadata": {},
   "outputs": [
    {
     "name": "stdout",
     "output_type": "stream",
     "text": [
      "13\n"
     ]
    }
   ],
   "source": [
    "def pegaMaior(num1,num2):\n",
    "    if num1>num2:\n",
    "        return num1\n",
    "    else:\n",
    "        return num2\n",
    "    \n",
    "\n",
    "num1=10\n",
    "num2=13\n",
    "    \n",
    "num=pegaMaior(num1,num2)\n",
    "\n",
    "print(num)"
   ]
  },
  {
   "cell_type": "code",
   "execution_count": 9,
   "metadata": {},
   "outputs": [
    {
     "name": "stdout",
     "output_type": "stream",
     "text": [
      "fizzbuzz\n"
     ]
    }
   ],
   "source": [
    "def fizz_buzz(numero):\n",
    "    if (numero%3==0 and numero%5==0):\n",
    "        return 'fizzbuzz'\n",
    "    elif numero%5==0:\n",
    "        return 'buzz'\n",
    "    elif numero%3==0:\n",
    "        return 'fizz'\n",
    "    else:\n",
    "        return numero\n",
    "    \n",
    "numero=15\n",
    "resposta=fizz_buzz(numero)\n",
    "print(resposta)"
   ]
  },
  {
   "cell_type": "code",
   "execution_count": 32,
   "metadata": {},
   "outputs": [
    {
     "name": "stdout",
     "output_type": "stream",
     "text": [
      "Pontos: 2\n"
     ]
    }
   ],
   "source": [
    "import math\n",
    "\n",
    "def radar(velocidade):\n",
    "    if velocidade<=70:\n",
    "        print('ok')\n",
    "    else:\n",
    "        pontos=math.floor((velocidade-70)/5)\n",
    "        pontoss='Pontos: '+str(pontos)\n",
    "        \n",
    "        if pontos>12:\n",
    "            print('License suspended')\n",
    "        else:\n",
    "            print(pontoss)\n",
    "            \n",
    "velocidade=80\n",
    "#resp=\n",
    "radar(velocidade)\n",
    "#print(resp)"
   ]
  },
  {
   "cell_type": "code",
   "execution_count": 35,
   "metadata": {},
   "outputs": [
    {
     "name": "stdout",
     "output_type": "stream",
     "text": [
      "PAR  0\n",
      "IMPAR 1\n",
      "PAR  2\n",
      "IMPAR 3\n",
      "PAR  4\n",
      "IMPAR 5\n",
      "PAR  6\n",
      "IMPAR 7\n",
      "PAR  8\n",
      "IMPAR 9\n",
      "PAR  10\n"
     ]
    }
   ],
   "source": [
    "def paridade(limite):\n",
    "    for i in range(0,limite+1): \n",
    "        if (i%2==0):\n",
    "            print('PAR ', i)\n",
    "        else:\n",
    "            print('IMPAR', i)\n",
    "\n",
    "            \n",
    "limite=10\n",
    "paridade(limite)"
   ]
  },
  {
   "cell_type": "code",
   "execution_count": 38,
   "metadata": {},
   "outputs": [
    {
     "name": "stdout",
     "output_type": "stream",
     "text": [
      "3\n",
      "5\n",
      "6\n",
      "9\n",
      "10\n",
      "12\n",
      "15\n",
      "18\n",
      "20\n"
     ]
    }
   ],
   "source": [
    "def multiplicidade(limite):\n",
    "    for i in range(1,limite+1): \n",
    "        if (i%3==0):\n",
    "            print(i)\n",
    "        elif (i%5==0):\n",
    "            print(i)\n",
    "\n",
    "            \n",
    "limite=20\n",
    "multiplicidade(limite)"
   ]
  },
  {
   "cell_type": "code",
   "execution_count": 2,
   "metadata": {},
   "outputs": [
    {
     "name": "stdout",
     "output_type": "stream",
     "text": [
      "\n",
      "*\n",
      "**\n",
      "***\n",
      "****\n",
      "*****\n"
     ]
    }
   ],
   "source": [
    "def show_stars(linhas):\n",
    "    for i in range(linhas+1):\n",
    "        print('*'*i)\n",
    "        \n",
    "linhas=5\n",
    "show_stars(linhas)"
   ]
  },
  {
   "cell_type": "code",
   "execution_count": 53,
   "metadata": {},
   "outputs": [
    {
     "name": "stdout",
     "output_type": "stream",
     "text": [
      "0\n",
      "1\n",
      "2\n",
      "3\n",
      "5\n",
      "7\n",
      "11\n",
      "13\n",
      "17\n",
      "19\n",
      "23\n",
      "29\n",
      "31\n",
      "37\n",
      "41\n",
      "43\n",
      "47\n",
      "53\n",
      "59\n",
      "61\n",
      "67\n",
      "71\n",
      "73\n",
      "79\n",
      "83\n",
      "89\n",
      "97\n"
     ]
    }
   ],
   "source": [
    "def primos(limite):\n",
    "    for i in range(0,limite):\n",
    "        a=False\n",
    "        for j in range(2,i-1):\n",
    "            if i%j==0:\n",
    "                a=True\n",
    "        if a==False:\n",
    "            print(i)\n",
    "            \n",
    "            \n",
    "limite=100\n",
    "primos(limite)"
   ]
  }
 ],
 "metadata": {
  "kernelspec": {
   "display_name": "Python [conda env:ambi] *",
   "language": "python",
   "name": "conda-env-ambi-py"
  },
  "language_info": {
   "codemirror_mode": {
    "name": "ipython",
    "version": 3
   },
   "file_extension": ".py",
   "mimetype": "text/x-python",
   "name": "python",
   "nbconvert_exporter": "python",
   "pygments_lexer": "ipython3",
   "version": "3.7.4"
  }
 },
 "nbformat": 4,
 "nbformat_minor": 2
}
