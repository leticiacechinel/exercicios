{
 "cells": [
  {
   "cell_type": "markdown",
   "metadata": {},
   "source": [
    "### problem 1: What will be the output of the following program?"
   ]
  },
  {
   "cell_type": "code",
   "execution_count": 1,
   "metadata": {},
   "outputs": [
    {
     "name": "stdout",
     "output_type": "stream",
     "text": [
      "[0, 1, [3]]\n",
      "[0, 1, [3, 4]]\n",
      "[0, 1, 2]\n"
     ]
    }
   ],
   "source": [
    "x = [0, 1, [2]]\n",
    "x[2][0] = 3\n",
    "print(x)\n",
    "x[2].append(4)\n",
    "print(x)\n",
    "x[2] = 2\n",
    "print(x)\n"
   ]
  },
  {
   "cell_type": "markdown",
   "metadata": {},
   "source": [
    "### problem 2: Python has a built-in function sum to find sum of all elements of a list. Provide an implementation for sum."
   ]
  },
  {
   "cell_type": "code",
   "execution_count": 3,
   "metadata": {},
   "outputs": [
    {
     "data": {
      "text/plain": [
       "6"
      ]
     },
     "execution_count": 3,
     "metadata": {},
     "output_type": "execute_result"
    }
   ],
   "source": [
    "sum([1, 2, 3])\n"
   ]
  },
  {
   "cell_type": "markdown",
   "metadata": {},
   "source": [
    "### problem 3: What happens when the above sum function is called with a list of strings? Can you make your sum function work for a list of strings as well."
   ]
  },
  {
   "cell_type": "code",
   "execution_count": 13,
   "metadata": {},
   "outputs": [
    {
     "data": {
      "text/plain": [
       "'helloworld'"
      ]
     },
     "execution_count": 13,
     "metadata": {},
     "output_type": "execute_result"
    }
   ],
   "source": [
    "''.join(['hello', 'world'])"
   ]
  },
  {
   "cell_type": "markdown",
   "metadata": {},
   "source": [
    "### problem 4: Implement a function product, to compute product of a list of numbers."
   ]
  },
  {
   "cell_type": "code",
   "execution_count": 19,
   "metadata": {},
   "outputs": [
    {
     "name": "stdout",
     "output_type": "stream",
     "text": [
      "42\n"
     ]
    }
   ],
   "source": [
    "lista=[1, 2, 3,7]\n",
    "produto=1\n",
    "for i in range(0,len(lista)):\n",
    "    produto=lista[i]*produto\n",
    "    \n",
    "print(produto)"
   ]
  },
  {
   "cell_type": "markdown",
   "metadata": {},
   "source": [
    "### problem 5: Write a function factorial to compute factorial of a number. Can you use the product function defined in the previous example to compute factorial?"
   ]
  },
  {
   "cell_type": "code",
   "execution_count": 22,
   "metadata": {},
   "outputs": [
    {
     "name": "stdout",
     "output_type": "stream",
     "text": [
      "120\n"
     ]
    }
   ],
   "source": [
    "numero=5\n",
    "fatorial=1\n",
    "for i in range(numero,0,-1):\n",
    "    fatorial=fatorial*i\n",
    "print(fatorial)    "
   ]
  },
  {
   "cell_type": "markdown",
   "metadata": {},
   "source": [
    "### problem 8: Cumulative sum of a list [a, b, c, ...] is defined as [a, a+b, a+b+c, ...]. Write a function cumulative_sum to compute cumulative sum of a list. Does your implementation work for a list of strings?\n",
    "\n"
   ]
  },
  {
   "cell_type": "code",
   "execution_count": 27,
   "metadata": {},
   "outputs": [
    {
     "name": "stdout",
     "output_type": "stream",
     "text": [
      "[1, 3, 6, 10]\n"
     ]
    }
   ],
   "source": [
    "lista=[1,2,3,4]\n",
    "soma=0\n",
    "lista_soma=[]\n",
    "for i in range(0, len(lista)):\n",
    "    soma=soma+lista[i]\n",
    "    lista_soma.append(soma)\n",
    "print(lista_soma) \n"
   ]
  },
  {
   "cell_type": "markdown",
   "metadata": {},
   "source": [
    "### problem 7: Python has built-in functions min and max to compute minimum and maximum of a given list. Provide an implementation for these functions. What happens when you call your min and max functions with a list of strings?"
   ]
  },
  {
   "cell_type": "code",
   "execution_count": 39,
   "metadata": {},
   "outputs": [
    {
     "name": "stdout",
     "output_type": "stream",
     "text": [
      "1\n",
      "65\n"
     ]
    }
   ],
   "source": [
    "lista=[1,2,7,65,40,23]\n",
    "lista.sort()\n",
    "print(lista[0])\n",
    "print(lista[len(lista)-1])\n",
    "\n"
   ]
  },
  {
   "cell_type": "markdown",
   "metadata": {},
   "source": [
    "### problem 9: Write a function cumulative_product to compute cumulative product of a list of numbers."
   ]
  },
  {
   "cell_type": "code",
   "execution_count": 28,
   "metadata": {},
   "outputs": [
    {
     "name": "stdout",
     "output_type": "stream",
     "text": [
      "[1, 2, 6, 24]\n"
     ]
    }
   ],
   "source": [
    "lista=[1,2,3,4]\n",
    "produto=1\n",
    "lista_prod=[]\n",
    "for i in range(0, len(lista)):\n",
    "    produto=produto*lista[i]\n",
    "    lista_prod.append(produto)\n",
    "print(lista_prod)"
   ]
  },
  {
   "cell_type": "markdown",
   "metadata": {},
   "source": [
    "### problem 10: Write a function unique to find all the unique elements of a list."
   ]
  },
  {
   "cell_type": "code",
   "execution_count": 60,
   "metadata": {},
   "outputs": [
    {
     "name": "stdout",
     "output_type": "stream",
     "text": [
      "[1, 2, 7, 65, 40, 23, 30]\n"
     ]
    }
   ],
   "source": [
    "lista=[1,2,7,65,40,23,30,7,2]\n",
    "lista_unica=[]\n",
    "\n",
    "\n",
    "\n",
    "for i in range(0,len(lista)):\n",
    "    a=lista[i] in lista_unica\n",
    "    if not a :\n",
    "        lista_unica.append(lista[i])\n",
    "print(lista_unica)"
   ]
  },
  {
   "cell_type": "markdown",
   "metadata": {},
   "source": [
    "### problem 11: Write a function dups to find all duplicates in the list."
   ]
  },
  {
   "cell_type": "code",
   "execution_count": 67,
   "metadata": {},
   "outputs": [
    {
     "name": "stdout",
     "output_type": "stream",
     "text": [
      "[7, 2]\n"
     ]
    }
   ],
   "source": [
    "lista=[1,2,7,65,40,23,30,7,2]\n",
    "lista_unica=[]\n",
    "lista_rep=[]\n",
    "\n",
    "\n",
    "\n",
    "for i in range(0,len(lista)):\n",
    "    a=lista[i] in lista_unica\n",
    "    if not a :\n",
    "        lista_unica.append(lista[i])\n",
    "    else:\n",
    "        lista_rep.append(lista[i])\n",
    "print(lista_rep)"
   ]
  },
  {
   "cell_type": "markdown",
   "metadata": {},
   "source": [
    "### problem 12: Write a function group(list, size) that take a list and splits into smaller lists of given size."
   ]
  },
  {
   "cell_type": "code",
   "execution_count": 3,
   "metadata": {},
   "outputs": [
    {
     "name": "stdout",
     "output_type": "stream",
     "text": [
      "[[1, 2, 7, 65], [40, 23, 30, 7], [2, 4, 23, 12], [46, 78, 2, 3], [4, 5]]\n"
     ]
    }
   ],
   "source": [
    "import math\n",
    "\n",
    "lista=[1,2,7,65,40,23,30,7,2,4,23,12,46,78,2,3,4,5]\n",
    "num_elementos=4\n",
    "n_grupos=math.ceil((len(lista))/num_elementos)\n",
    "lista_total=[]\n",
    "\n",
    "for i in range(0,n_grupos):\n",
    "    listas=[]\n",
    "    for j in range(0,num_elementos):     \n",
    "        elemento=j+i*num_elementos\n",
    "        if (elemento< len(lista)):\n",
    "            listas.append(lista[elemento])\n",
    "        else:\n",
    "            break\n",
    "        #print(listas)\n",
    "    lista_total.append(listas)\n",
    "print(lista_total)\n",
    "\n",
    "    "
   ]
  },
  {
   "cell_type": "markdown",
   "metadata": {},
   "source": [
    "### problem 14: Write a function lensort to sort a list of strings based on length.\n",
    "\n"
   ]
  },
  {
   "cell_type": "code",
   "execution_count": 148,
   "metadata": {},
   "outputs": [
    {
     "name": "stdout",
     "output_type": "stream",
     "text": [
      "['pa', 'macaco', 'paralelepipedo', 'alou']\n"
     ]
    }
   ],
   "source": [
    "def tamanho(string):\n",
    "        return string[1]\n",
    "    \n",
    "def ordena(lista_ord):\n",
    "    lista_ord.sort(key=tamanho)\n",
    "    return lista_ord    \n",
    "    \n",
    "string=['alou', 'pa', 'macaco', 'paralelepipedo']\n",
    "#num=tamanho(string)\n",
    "lista_ord=[]\n",
    "lista_ord=ordena(string)\n",
    "print(lista_ord)\n",
    "\n",
    "    "
   ]
  },
  {
   "cell_type": "markdown",
   "metadata": {},
   "source": [
    "### segunda maneira\n"
   ]
  },
  {
   "cell_type": "code",
   "execution_count": 143,
   "metadata": {},
   "outputs": [
    {
     "name": "stdout",
     "output_type": "stream",
     "text": [
      "['alou', 'p', 'macaco', 'paralelepipedo']\n",
      "['alou', 'macaco', 'p', 'paralelepipedo']\n",
      "['p', 'alou', 'macaco', 'paralelepipedo']\n"
     ]
    }
   ],
   "source": [
    "string=['alou', 'p', 'macaco', 'paralelepipedo']\n",
    "print(string)\n",
    "string.sort()\n",
    "print(string)\n",
    "string.sort(key=len)\n",
    "print(string)"
   ]
  },
  {
   "cell_type": "markdown",
   "metadata": {},
   "source": [
    "### problem 15: Improve the unique function written in previous problems to take an optional key function as argument and use the return value of the key function to check for uniqueness.\n",
    "\n"
   ]
  },
  {
   "cell_type": "code",
   "execution_count": 129,
   "metadata": {},
   "outputs": [
    {
     "name": "stdout",
     "output_type": "stream",
     "text": [
      "[3, 2, 1, 0]\n"
     ]
    }
   ],
   "source": [
    "def quadrado(numero):\n",
    "        x=numero*numero\n",
    "        return x\n",
    "\n",
    "def unica(lista,key):\n",
    "    lista_unica=[]\n",
    "    lista_rep=[] \n",
    "    for i in range(0,len(lista)):\n",
    "        a = key(lista[i]) in lista_unica\n",
    "        if not a :\n",
    "            lista_unica.append(key(lista[i]))\n",
    "    print([int(element**0.5) for element in lista_unica])\n",
    "    #print(lista_unica)\n",
    "    \n",
    "\n",
    "   \n",
    "lista=[-3,-2,-1,0,1,2,3]\n",
    "unica(lista, key=quadrado)\n",
    "        \n",
    "        "
   ]
  },
  {
   "cell_type": "markdown",
   "metadata": {},
   "source": [
    "### problem 16: Reimplement the unique function implemented in the earlier examples using sets."
   ]
  },
  {
   "cell_type": "code",
   "execution_count": 31,
   "metadata": {},
   "outputs": [
    {
     "name": "stdout",
     "output_type": "stream",
     "text": [
      "[65, 1, 2, 7, 40, 23, 30]\n"
     ]
    }
   ],
   "source": [
    "lista=[1,2,7,65,40,23,30,7,2]\n",
    "setlista=set(lista)\n",
    "print(list(setlista))"
   ]
  },
  {
   "cell_type": "markdown",
   "metadata": {},
   "source": [
    "### problem 17: Write a function extsort to sort a list of files based on extension."
   ]
  },
  {
   "cell_type": "code",
   "execution_count": 90,
   "metadata": {},
   "outputs": [
    {
     "name": "stdout",
     "output_type": "stream",
     "text": [
      "['a.c', 'x.c', 'a.py', 'b.py', 'bar.txt', 'foo.txt']\n"
     ]
    }
   ],
   "source": [
    "#por enquanto ta so salvando as extensoes\n",
    "\n",
    "def getExt(string):\n",
    "    a=string.split('.')\n",
    "    dividido=a[1]\n",
    "    return(dividido)\n",
    "\n",
    "def agrupa(lista, key):\n",
    "    #ext_grupos=[]\n",
    "    listalista=[]\n",
    "    #nova_lista=[]\n",
    "    lista.sort(key=getExt)   #key e cast\n",
    "            \n",
    "                     #   if not key(lista[i]) in ext_grupos\n",
    "                      #      nova_lista=lista[i]\n",
    "                       #     lista_grupos.append(nova_lista)\n",
    "                        #else\n",
    "                            #adiciona ao grupo que pertence\n",
    "                         #   lista_grupos[lista_grupos.find(key(lista[i]))].append(lista[i])\n",
    "\n",
    "    print(lista)\n",
    "                             \n",
    "                             \n",
    "                             \n",
    "\n",
    "string=(['a.c', 'a.py', 'b.py', 'bar.txt', 'foo.txt', 'x.c'])\n",
    "\n",
    "agrupa(string,getExt)\n",
    "\n"
   ]
  },
  {
   "cell_type": "markdown",
   "metadata": {},
   "source": [
    "### problem 18: Write a program reverse.py to print lines of a file in reverse order."
   ]
  },
  {
   "cell_type": "code",
   "execution_count": 51,
   "metadata": {},
   "outputs": [
    {
     "name": "stdout",
     "output_type": "stream",
     "text": [
      "Im sure that the shells are seashore shells.\n",
      "So if she sells seashells on the seashore,\n",
      "The shells that she sells are seashells Im sure.\n",
      "She sells seashells on the seashore;\n"
     ]
    }
   ],
   "source": [
    "string=\"She sells seashells on the seashore;\\n\"\n",
    "string+=\"The shells that she sells are seashells Im sure.\\n\"\n",
    "string+=\"So if she sells seashells on the seashore,\\n\"\n",
    "string+=\"Im sure that the shells are seashore shells.\"\n",
    "\n",
    "\n",
    "linhas=string.split('\\n')\n",
    "\n",
    "for i in range(len(linhas),0,-1):\n",
    "    print(linhas[i-1])\n",
    "\n",
    "\n"
   ]
  },
  {
   "cell_type": "markdown",
   "metadata": {},
   "source": [
    "### JEITO MELHOR "
   ]
  },
  {
   "cell_type": "code",
   "execution_count": 88,
   "metadata": {},
   "outputs": [
    {
     "name": "stdout",
     "output_type": "stream",
     "text": [
      "\n",
      "I'm sure that the shells are seashore shells.\n",
      "So if she sells seashells on the seashore,\n",
      "The shells that she sells are seashells I'm sure.\n",
      "She sells seashells on the seashore;\n"
     ]
    }
   ],
   "source": [
    "file=open(\"Documentos/AULAS/Python/trava_lingua.txt\", \"r\")\n",
    "\n",
    "a=str(file.read())\n",
    "\n",
    "linhas=a.split('\\n')\n",
    "\n",
    "for i in range(len(linhas),0,-1):\n",
    "    print(linhas[i-1])"
   ]
  },
  {
   "cell_type": "markdown",
   "metadata": {},
   "source": [
    " ## 19,20,21 estao em outro documento"
   ]
  },
  {
   "cell_type": "markdown",
   "metadata": {},
   "source": [
    "### problem 22: Write a program wrap.py that takes filename and width as aruguments and wraps the lines longer than width."
   ]
  },
  {
   "cell_type": "code",
   "execution_count": 23,
   "metadata": {},
   "outputs": [
    {
     "name": "stdout",
     "output_type": "stream",
     "text": [
      "She sells seashells on the sea\n",
      "shore;\n",
      "The shells that she sells are \n",
      "seashells I'm sure.\n",
      "So if she sells seashells on t\n",
      "he seashore,\n",
      "I'm sure that the shells are s\n",
      "eashore shells.\n"
     ]
    }
   ],
   "source": [
    "#! Documentos/AULAS/Python/trava_lingua.txt\", \"r\"\n",
    "\n",
    "file=open(\"Documentos/AULAS/Python/trava_lingua.txt\", \"r\")\n",
    "\n",
    "def pulaLinha(texto,quebra):\n",
    "     for i in range(0,len(texto)-1):\n",
    "        #print(len(texto[i]))\n",
    "        if len(texto[i])<=quebra:\n",
    "            print(texto[i])\n",
    "        else:\n",
    "            texto_novo = texto[i][:quebra] + '\\n' + texto[i][quebra:]\n",
    "            print(texto_novo)\n",
    "\n",
    "\n",
    "\n",
    "a=str(file.read())\n",
    "quebra=30\n",
    "linhas=a.split('\\n')\n",
    "resultado=pulaLinha(linhas,quebra)\n",
    "\n"
   ]
  },
  {
   "cell_type": "code",
   "execution_count": null,
   "metadata": {},
   "outputs": [],
   "source": [
    "#! Documentos/AULAS/Python/trava_lingua.txt\", \"r\"\n",
    "\n",
    "##ESSA EH UMA TENTATIVA DE QUEBRAR MULTIPLAS VEZES\n",
    "\n",
    "file=open(\"Documentos/AULAS/Python/trava_lingua.txt\", \"r\")\n",
    "\n",
    "def pulaLinha(texto,quebra):\n",
    "     for i in range(0,len(texto)-1):\n",
    "        #print(len(texto[i]))\n",
    "        if len(texto[i])<=quebra:\n",
    "            print(texto[i])\n",
    "        else:\n",
    "            texto_novo = texto[i][:quebra] + '\\n' + texto[i][quebra:]\n",
    "            print(texto_novo)\n",
    "\n",
    "\n",
    "\n",
    "a=str(file.read())\n",
    "quebra=30\n",
    "linhas=a.split('\\n')\n",
    "resultado=pulaLinha(linhas,quebra)\n"
   ]
  },
  {
   "cell_type": "markdown",
   "metadata": {},
   "source": [
    "### problem 23: The above wrap program is not so nice because it is breaking the line at middle of any word. Can you write a new program wordwrap.py that works like wrap.py, but breaks the line only at the word boundaries?\n",
    "\n"
   ]
  },
  {
   "cell_type": "code",
   "execution_count": 50,
   "metadata": {},
   "outputs": [
    {
     "name": "stdout",
     "output_type": "stream",
     "text": [
      "She sells seashells on the\n",
      " seashore;\n",
      "The shells that she sells\n",
      " are seashells I'm sure.\n",
      "So if she sells seashells\n",
      " on the seashore,\n",
      "I'm sure that the shells\n",
      " are seashore shells.\n"
     ]
    }
   ],
   "source": [
    "#! Documentos/AULAS/Python/trava_lingua.txt\", \"r\"\n",
    "\n",
    "file=open(\"Documentos/AULAS/Python/trava_lingua.txt\", \"r\")\n",
    "\n",
    "def pulaLinha(texto,quebra):\n",
    "    for i in range(0,len(texto)-1):\n",
    "        #print(len(texto[i]))\n",
    "        if len(texto[i])<=quebra:\n",
    "            print(texto_novo[i])\n",
    "        else:\n",
    "            while texto[i][quebra] != ' ':\n",
    "                quebra=quebra-1\n",
    "\n",
    "            #texto[i][quebra]\n",
    "            texto_novo = texto[i][:quebra] + '\\n' + texto[i][quebra:]\n",
    "            print(texto_novo)\n",
    "    return texto_novo\n",
    "\n",
    "\n",
    "\n",
    "a=str(file.read())\n",
    "quebra=30\n",
    "linhas=a.split('\\n')\n",
    "resultado=pulaLinha(linhas,quebra)\n",
    "\n",
    "linhas_novas=str(resultado).split('\\n')\n"
   ]
  },
  {
   "cell_type": "markdown",
   "metadata": {},
   "source": [
    "### problem 24: Write a program center_align.py to center align all lines in the given file.\n",
    "\n"
   ]
  },
  {
   "cell_type": "code",
   "execution_count": 102,
   "metadata": {},
   "outputs": [
    {
     "name": "stdout",
     "output_type": "stream",
     "text": [
      "She sells seashells on the\n",
      "         seashore;        \n",
      "The shells that she sells \n",
      "  are seashells I'm sure. \n",
      "So if she sells seashells \n",
      "     on the seashore,     \n",
      " I'm sure that the shells \n",
      "   are seashore shells.   \n"
     ]
    }
   ],
   "source": [
    "#! Documentos/AULAS/Python/trava_lingua.txt\", \"r\"\n",
    "\n",
    "file=open(\"Documentos/AULAS/Python/trava_lingua.txt\", \"r\")\n",
    "\n",
    "def pulaLinha(texto,quebra):\n",
    "    texto_novo=[]\n",
    "    for i in range(0,len(texto)-1):\n",
    "        #print(len(texto[i]))\n",
    "        if len(texto[i])<=quebra:\n",
    "            texto_novo.append(texto[i])\n",
    "            #print(texto_novo[i])\n",
    "        else:\n",
    "            while texto[i][quebra] != ' ':\n",
    "                quebra=quebra-1\n",
    "\n",
    "            texto_novo.append(texto[i][:quebra] + '\\n' + texto[i][quebra:])\n",
    "            #print(texto_novo[i])\n",
    "            \n",
    "    #print(texto_novo)\n",
    "    a='\\n'.join(texto_novo)\n",
    "    return(a)\n",
    "\n",
    "\n",
    "def centraliza(resultado):\n",
    "    linhas_novas=str(resultado).split('\\n')\n",
    "    maior_frase=''\n",
    "    resultado_centr=[]\n",
    "    for i in range(0,len(linhas_novas)):\n",
    "         if (len(linhas_novas[i])>len(maior_frase)):\n",
    "            maior_frase=linhas_novas[i]\n",
    "    maximo=len(maior_frase) \n",
    "    \n",
    "    \n",
    "    for i in range(0,len(linhas_novas)):\n",
    "        espaco_vazio=maximo-len(linhas_novas[i])\n",
    "        \n",
    "        if espaco_vazio%2==0:\n",
    "            espaco_vazio_par=espaco_vazio//2\n",
    "            resultado_centr.append(' '*espaco_vazio_par+linhas_novas[i]+' '*espaco_vazio_par)\n",
    "            print(resultado_centr[i])\n",
    "        else:\n",
    "            espaco_vazio_impar=espaco_vazio//2\n",
    "            resultado_centr.append(' '*espaco_vazio_impar+linhas_novas[i]+' '*(espaco_vazio-espaco_vazio_impar))\n",
    "            print(resultado_centr[i])\n",
    "            \n",
    "##LENDO ARQUIVO\n",
    "a=str(file.read())\n",
    "linhas=a.split('\\n')\n",
    "\n",
    "\n",
    "## FUNCAO PULAR LINHA\n",
    "quebra=30\n",
    "resultado=pulaLinha(linhas,quebra)\n",
    "\n",
    "##FUNCAO CENTRALIZAR\n",
    "resultado_cent=centraliza(resultado)\n",
    "\n",
    "\n",
    "#print(resultado)\n",
    "#print(linhas_novas)"
   ]
  },
  {
   "cell_type": "markdown",
   "metadata": {},
   "source": [
    "### problem 25: Provide an implementation for zip function using list comprehensions."
   ]
  },
  {
   "cell_type": "code",
   "execution_count": 118,
   "metadata": {},
   "outputs": [
    {
     "name": "stdout",
     "output_type": "stream",
     "text": [
      "['a', 1, 'b', 2, 'c', 3]\n"
     ]
    }
   ],
   "source": [
    "def zip(v1,v2):\n",
    "    lista_total=[]\n",
    "    mini_lista=[]\n",
    "    for i in range(0,len(v1)):\n",
    "        lista_total.append(v1[i])\n",
    "        lista_total.append(v2[i])\n",
    "    return lista_total\n",
    "v1=['a','b','c']\n",
    "v2=[1,2,3]\n",
    "        \n",
    "resultado=zip(v1,v2)\n",
    "print(resultado)"
   ]
  },
  {
   "cell_type": "code",
   "execution_count": 162,
   "metadata": {},
   "outputs": [
    {
     "name": "stdout",
     "output_type": "stream",
     "text": [
      "[('a', 1), ('b', 2), ('c', 3)]\n"
     ]
    }
   ],
   "source": [
    "def zipa(v1,v2):\n",
    "    lista=[(v1[i],v2[i]) for i in range(len(v1))]\n",
    "    return lista\n",
    "    \n",
    "\n",
    "v1=['a','b','c']\n",
    "v2=[1,2,3]\n",
    "lista=zipa(v1,v2)\n",
    "print(lista)\n",
    "\n"
   ]
  },
  {
   "cell_type": "markdown",
   "metadata": {},
   "source": [
    "### problem 26: Python provides a built-in function map that applies a function to each element of a list. Provide an implementation for map using list comprehensions."
   ]
  },
  {
   "cell_type": "code",
   "execution_count": 168,
   "metadata": {},
   "outputs": [
    {
     "name": "stdout",
     "output_type": "stream",
     "text": [
      "[0, 1, 4, 9, 16, 25]\n"
     ]
    }
   ],
   "source": [
    "def square(x):\n",
    "    a=[]\n",
    "    a=[(x**2) for x in range(len(x))]\n",
    "    return a\n",
    "    \n",
    "\n",
    "x=[1,2,3,4,5,6]\n",
    "\n",
    "\n",
    "a=square(x)\n",
    "print(a)\n"
   ]
  },
  {
   "cell_type": "markdown",
   "metadata": {},
   "source": [
    "### problem 27: Python provides a built-in function filter(f, a) that returns items of the list a for which f(item) returns true. Provide an implementation for filter using list comprehensions."
   ]
  },
  {
   "cell_type": "code",
   "execution_count": 175,
   "metadata": {},
   "outputs": [
    {
     "name": "stdout",
     "output_type": "stream",
     "text": [
      "[2, 4, 6]\n"
     ]
    }
   ],
   "source": [
    "def filtra(x):\n",
    "    a=[(x[i]) for i in range(len(x)) if x[i]%2==0]\n",
    "    return a\n",
    "\n",
    "x=[1,2,3,4,5,6]\n",
    "a=filtra(x)\n",
    "print(a)"
   ]
  },
  {
   "cell_type": "markdown",
   "metadata": {},
   "source": [
    "### problem 28: Write a function triplets that takes a number n as argument and returns a list of triplets such that sum of first two elements of the triplet equals the third element using numbers below n. Please note that (a, b, c) and (b, a, c) represent same triplet.\n",
    "\n"
   ]
  },
  {
   "cell_type": "code",
   "execution_count": 176,
   "metadata": {},
   "outputs": [
    {
     "name": "stdout",
     "output_type": "stream",
     "text": [
      "[(1, 1, 2), (1, 2, 3), (1, 3, 4), (2, 2, 4)]\n"
     ]
    }
   ],
   "source": [
    "def triplets(N):\n",
    "    return [(k, i-k, i) for i in range(1, N) for k in range(1, i) if k <= i-k]\n",
    "\n",
    "\n",
    "print(triplets(5))"
   ]
  },
  {
   "cell_type": "markdown",
   "metadata": {},
   "source": [
    "### problem 29: Write a function enumerate that takes a list and returns a list of tuples containing (index,item) for each item in the list."
   ]
  },
  {
   "cell_type": "code",
   "execution_count": 2,
   "metadata": {},
   "outputs": [
    {
     "name": "stdout",
     "output_type": "stream",
     "text": [
      "[(0, 'a'), (1, 'b'), (2, 'c'), (3, 'd'), (4, 'e'), (5, 'f')]\n"
     ]
    }
   ],
   "source": [
    "def enumera(lista):\n",
    "    res=[(i,lista[i]) for i in range(len(lista))]\n",
    "    return res\n",
    "    \n",
    "lista=['a','b','c','d','e','f']\n",
    "res=enumera(lista)\n",
    "print(res)"
   ]
  },
  {
   "cell_type": "markdown",
   "metadata": {},
   "source": [
    "### problem 30: Write a function array to create an 2-dimensional array. The function should take both dimensions as arguments. Value of each element can be initialized to None:"
   ]
  },
  {
   "cell_type": "code",
   "execution_count": 8,
   "metadata": {},
   "outputs": [
    {
     "name": "stdout",
     "output_type": "stream",
     "text": [
      "[[None, None], [None, None, None]]\n"
     ]
    }
   ],
   "source": [
    "def criaVet(dim1,dim2):\n",
    "    a=[[None]*dim1, [None]*dim2]\n",
    "    print(a)\n",
    "    \n",
    "dim1=2\n",
    "dim2=3\n",
    "\n",
    "criaVet(dim1,dim2)"
   ]
  },
  {
   "cell_type": "markdown",
   "metadata": {},
   "source": [
    "### problem 31: Write a python function parse_csv to parse csv (comma separated values) files."
   ]
  },
  {
   "cell_type": "code",
   "execution_count": 8,
   "metadata": {},
   "outputs": [
    {
     "name": "stdout",
     "output_type": "stream",
     "text": [
      "[['a', 'b', 'c'], ['1', '2', '3'], ['2', '3', '4'], ['3', '4', '5']]\n"
     ]
    }
   ],
   "source": [
    "import re\n",
    "lista=open('Documentos/AULAS/exercicios/arquivo.csv').readlines()\n",
    "\n",
    "\n",
    "#lista=str(lista).replace('\\n', '')\n",
    "#resultado =[lista[i].split(',') for i in range(len(lista))]\n",
    "resultado =[[a.replace('\\n','') for a in linha.split(',')] for linha in lista]\n",
    "\n",
    "print(resultado)\n",
    "#def criaLista('arquivo.csv'):\n",
    " #   lista=([i][j]) for i in range() "
   ]
  },
  {
   "cell_type": "markdown",
   "metadata": {},
   "source": [
    "### problem 32: Generalize the above implementation of csv parser to support any delimiter and comments."
   ]
  },
  {
   "cell_type": "code",
   "execution_count": 11,
   "metadata": {},
   "outputs": [
    {
     "name": "stdout",
     "output_type": "stream",
     "text": [
      "[['a', 'b', 'c'], ['1', '2', '3'], ['2', '3', '4'], ['3', '4', '5']]\n"
     ]
    }
   ],
   "source": [
    "import re\n",
    "lista=open('Documentos/AULAS/exercicios/arquivo.csv').readlines()\n",
    "\n",
    "\n",
    "#lista=str(lista).replace('\\n', '')\n",
    "#resultado =[lista[i].split(',') for i in range(len(lista))]\n",
    "def criaLista(lista,sep):\n",
    "    resultado =[[a.replace('\\n','') for a in linha.split(sep)] for linha in lista]\n",
    "    return resultado\n",
    "\n",
    "\n",
    "sep=','\n",
    "resultado=criaLista(lista,sep)\n",
    "print(resultado)"
   ]
  },
  {
   "cell_type": "markdown",
   "metadata": {},
   "source": [
    "### problem 33: Write a function mutate to compute all words generated by a single mutation on a given word. A mutation is defined as inserting a character, deleting a character, replacing a character, or swapping 2 consecutive characters in a string. For simplicity consider only letters from a to z."
   ]
  },
  {
   "cell_type": "code",
   "execution_count": 61,
   "metadata": {},
   "outputs": [
    {
     "name": "stdout",
     "output_type": "stream",
     "text": [
      "True\n"
     ]
    }
   ],
   "source": [
    "def mutate(palavra):\n",
    "\n",
    "    lista=[]\n",
    "    \n",
    "    #ADICIONAR\n",
    "    for i in range(0,len(palavra)):\n",
    "        for j in range(0,len(letras)):\n",
    "            new=''\n",
    "            new=palavra[0:i]+letras[j]+palavra[i+1:]\n",
    "            lista.append(new)\n",
    "    \n",
    "    for i in range(0,len(palavra)):\n",
    "        new=''\n",
    "        new=palavra[0:i]+palavra[i+1:]\n",
    "        lista.append(new)\n",
    "        #print(new)\n",
    "            \n",
    "    for i in range(0,len(palavra)-1):\n",
    "        new=''\n",
    "        new=palavra[0:i]+palavra[i+1:]\n",
    "        new=new[0:i+1]+palavra[i]+palavra[i+2:]\n",
    "        lista.append(new)\n",
    "\n",
    "        \n",
    "    return(lista)\n",
    "\n",
    "               \n",
    "\n",
    "letras=['a','b','c','d','e','f','g','h','i','j','k','l','m','n','o','p','q','r','s','t','u','v','w','x','y','z']\n",
    "palavra='banana'\n",
    "lista=mutate(palavra)\n",
    "\n",
    "print('banan' in lista)"
   ]
  },
  {
   "cell_type": "markdown",
   "metadata": {},
   "source": [
    "### problem 34: Write a function nearly_equal to test whether two strings are nearly equal. Two strings a and b are nearly equal when a can be generated by a single mutation on b."
   ]
  },
  {
   "cell_type": "code",
   "execution_count": 67,
   "metadata": {},
   "outputs": [
    {
     "name": "stdout",
     "output_type": "stream",
     "text": [
      "nearly equal!!!!\n"
     ]
    }
   ],
   "source": [
    "def nearly_equal(palavra, palavra2):\n",
    "\n",
    "    lista=[]\n",
    "    \n",
    "    #ADICIONAR\n",
    "    for i in range(0,len(palavra)):\n",
    "        for j in range(0,len(letras)):\n",
    "            new=''\n",
    "            new=palavra[0:i]+letras[j]+palavra[i+1:]\n",
    "            lista.append(new)\n",
    "    \n",
    "    for i in range(0,len(palavra)):\n",
    "        new=''\n",
    "        new=palavra[0:i]+palavra[i+1:]\n",
    "        lista.append(new)\n",
    "        #print(new)\n",
    "            \n",
    "    for i in range(0,len(palavra)-1):\n",
    "        new=''\n",
    "        new=palavra[0:i]+palavra[i+1:]\n",
    "        new=new[0:i+1]+palavra[i]+palavra[i+2:]\n",
    "        lista.append(new)\n",
    "\n",
    "    if palavra2 in lista:\n",
    "        print('nearly equal!!!!')\n",
    "\n",
    "\n",
    "letras=['a','b','c','d','e','f','g','h','i','j','k','l','m','n','o','p','q','r','s','t','u','v','w','x','y','z']\n",
    "palavra='banana'\n",
    "palavra2='abnana'\n",
    "lista=nearly_equal(palavra, palavra2)\n",
    "\n",
    "#print('banan' in lista)"
   ]
  },
  {
   "cell_type": "markdown",
   "metadata": {},
   "source": [
    "### problem 36: Write a program to count frequency of characters in a given file. Can you use character frequency to tell whether the given file is a Python program file, C program file or a text file?"
   ]
  },
  {
   "cell_type": "code",
   "execution_count": 85,
   "metadata": {},
   "outputs": [
    {
     "name": "stdout",
     "output_type": "stream",
     "text": [
      "{'a': 3, ' ': 3, 'b': 3, 'c': 1, 'd': 2, 'e': 1, 'f': 1}\n"
     ]
    }
   ],
   "source": [
    "def contaFreq(arquivo):\n",
    "    dic={}\n",
    "    for i in range(0,len(arquivo)):\n",
    "        if not arquivo[i] in dic:\n",
    "            dic[arquivo[i]]=1\n",
    "        else:  \n",
    "            #print('oi')\n",
    "            dic[arquivo[i]]+=1\n",
    "    return dic\n",
    "\n",
    "texto=('aaa bbb c ddef')            \n",
    "aa=contaFreq(texto)\n",
    "print(aa)"
   ]
  },
  {
   "cell_type": "markdown",
   "metadata": {},
   "source": [
    "### problem 37: Write a program to find anagrams in a given list of words. Two words are called anagrams if one word can be formed by rearranging letters of another. For example 'eat', 'ate' and 'tea' are anagrams."
   ]
  },
  {
   "cell_type": "code",
   "execution_count": 48,
   "metadata": {},
   "outputs": [
    {
     "ename": "AttributeError",
     "evalue": "'int' object has no attribute 'append'",
     "output_type": "error",
     "traceback": [
      "\u001b[0;31m---------------------------------------------------------------------------\u001b[0m",
      "\u001b[0;31mAttributeError\u001b[0m                            Traceback (most recent call last)",
      "\u001b[0;32m<ipython-input-48-15ba85f6d094>\u001b[0m in \u001b[0;36m<module>\u001b[0;34m\u001b[0m\n\u001b[1;32m     27\u001b[0m \u001b[0;34m\u001b[0m\u001b[0m\n\u001b[1;32m     28\u001b[0m \u001b[0mpalavras\u001b[0m\u001b[0;34m=\u001b[0m\u001b[0;34m[\u001b[0m\u001b[0;34m'abacate'\u001b[0m\u001b[0;34m,\u001b[0m\u001b[0;34m'aabcate'\u001b[0m\u001b[0;34m,\u001b[0m\u001b[0;34m'tecaaba'\u001b[0m\u001b[0;34m,\u001b[0m \u001b[0;34m'oblo'\u001b[0m\u001b[0;34m,\u001b[0m \u001b[0;34m'lobo'\u001b[0m\u001b[0;34m,\u001b[0m \u001b[0;34m'bolo'\u001b[0m\u001b[0;34m]\u001b[0m\u001b[0;34m\u001b[0m\u001b[0;34m\u001b[0m\u001b[0m\n\u001b[0;32m---> 29\u001b[0;31m \u001b[0mres\u001b[0m\u001b[0;34m=\u001b[0m\u001b[0managrama\u001b[0m\u001b[0;34m(\u001b[0m\u001b[0mpalavras\u001b[0m\u001b[0;34m)\u001b[0m\u001b[0;34m\u001b[0m\u001b[0;34m\u001b[0m\u001b[0m\n\u001b[0m\u001b[1;32m     30\u001b[0m \u001b[0mprint\u001b[0m\u001b[0;34m(\u001b[0m\u001b[0mres\u001b[0m\u001b[0;34m)\u001b[0m\u001b[0;34m\u001b[0m\u001b[0;34m\u001b[0m\u001b[0m\n",
      "\u001b[0;32m<ipython-input-48-15ba85f6d094>\u001b[0m in \u001b[0;36managrama\u001b[0;34m(palavras)\u001b[0m\n\u001b[1;32m     17\u001b[0m             \u001b[0;32mfor\u001b[0m \u001b[0mj\u001b[0m \u001b[0;32min\u001b[0m \u001b[0mrange\u001b[0m\u001b[0;34m(\u001b[0m\u001b[0;36m0\u001b[0m\u001b[0;34m,\u001b[0m\u001b[0mlen\u001b[0m\u001b[0;34m(\u001b[0m\u001b[0mpalavras\u001b[0m\u001b[0;34m)\u001b[0m\u001b[0;34m-\u001b[0m\u001b[0;36m1\u001b[0m\u001b[0;34m)\u001b[0m\u001b[0;34m:\u001b[0m\u001b[0;34m\u001b[0m\u001b[0;34m\u001b[0m\u001b[0m\n\u001b[1;32m     18\u001b[0m                 \u001b[0;32mif\u001b[0m \u001b[0mlista\u001b[0m\u001b[0;34m[\u001b[0m\u001b[0mj\u001b[0m\u001b[0;34m]\u001b[0m\u001b[0;34m==\u001b[0m\u001b[0mlista\u001b[0m\u001b[0;34m[\u001b[0m\u001b[0mi\u001b[0m\u001b[0;34m]\u001b[0m\u001b[0;34m:\u001b[0m\u001b[0;34m\u001b[0m\u001b[0;34m\u001b[0m\u001b[0m\n\u001b[0;32m---> 19\u001b[0;31m                     \u001b[0mlista_prov\u001b[0m\u001b[0;34m[\u001b[0m\u001b[0mk\u001b[0m\u001b[0;34m]\u001b[0m\u001b[0;34m.\u001b[0m\u001b[0mappend\u001b[0m\u001b[0;34m(\u001b[0m\u001b[0;34m\"\"\u001b[0m\u001b[0;34m.\u001b[0m\u001b[0mjoin\u001b[0m\u001b[0;34m(\u001b[0m\u001b[0mlista\u001b[0m\u001b[0;34m[\u001b[0m\u001b[0mj\u001b[0m\u001b[0;34m]\u001b[0m\u001b[0;34m)\u001b[0m\u001b[0;34m)\u001b[0m\u001b[0;34m\u001b[0m\u001b[0;34m\u001b[0m\u001b[0m\n\u001b[0m\u001b[1;32m     20\u001b[0m                     \u001b[0mi\u001b[0m\u001b[0;34m=\u001b[0m\u001b[0mj\u001b[0m\u001b[0;34m\u001b[0m\u001b[0;34m\u001b[0m\u001b[0m\n\u001b[1;32m     21\u001b[0m                 \u001b[0;32melse\u001b[0m\u001b[0;34m:\u001b[0m\u001b[0;34m\u001b[0m\u001b[0;34m\u001b[0m\u001b[0m\n",
      "\u001b[0;31mAttributeError\u001b[0m: 'int' object has no attribute 'append'"
     ]
    }
   ],
   "source": [
    "def anagrama(palavras):\n",
    "    lista_res=[]\n",
    "    lista=[]\n",
    "    for i in range (len(palavras)-1):\n",
    "        lista.append(\"\".join(sorted(palavras[i])))\n",
    "    comprimento=len(list(lista))\n",
    "    lista_final=[]\n",
    "    i=0\n",
    "    n_anagram=len(set(lista))\n",
    "    #print(n_anagram)\n",
    "   # lista_final=[2]\n",
    "    \n",
    "    i=0\n",
    "    for k in range(0,n_anagram-1):\n",
    "        while i < (comprimento-1):\n",
    "            lista_prov=[2]\n",
    "            for j in range(0,len(palavras)-1):\n",
    "                if lista[j]==lista[i]:\n",
    "                    lista_prov[k].append(\"\".join(lista[j]))\n",
    "                    i=j\n",
    "                else:\n",
    "                    i=i+1\n",
    "            lista_final.append(lista_prov[k])        \n",
    "\n",
    "            \n",
    "    return lista_final   \n",
    "                            \n",
    "palavras=['abacate','aabcate','tecaaba', 'oblo', 'lobo', 'bolo']\n",
    "res=anagrama(palavras)\n",
    "print(res)"
   ]
  },
  {
   "cell_type": "markdown",
   "metadata": {},
   "source": [
    "### problem 38: Write a function valuesort to sort values of a dictionary based on the key."
   ]
  },
  {
   "cell_type": "code",
   "execution_count": 7,
   "metadata": {},
   "outputs": [
    {
     "name": "stdout",
     "output_type": "stream",
     "text": [
      "[('a', 3), ('x', 1), ('y', 2)]\n"
     ]
    }
   ],
   "source": [
    "def valuesort(dictio):\n",
    "    res=sorted(dictio.items())\n",
    "    print(res)\n",
    "\n",
    "dictio={'x': 1, 'y': 2, 'a': 3}\n",
    "valuesort(dictio)\n",
    "res=[]"
   ]
  },
  {
   "cell_type": "code",
   "execution_count": null,
   "metadata": {},
   "outputs": [],
   "source": []
  }
 ],
 "metadata": {
  "kernelspec": {
   "display_name": "Python [conda env:ambi] *",
   "language": "python",
   "name": "conda-env-ambi-py"
  },
  "language_info": {
   "codemirror_mode": {
    "name": "ipython",
    "version": 3
   },
   "file_extension": ".py",
   "mimetype": "text/x-python",
   "name": "python",
   "nbconvert_exporter": "python",
   "pygments_lexer": "ipython3",
   "version": "3.7.4"
  }
 },
 "nbformat": 4,
 "nbformat_minor": 2
}
