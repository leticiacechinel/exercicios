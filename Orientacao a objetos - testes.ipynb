{
 "cells": [
  {
   "cell_type": "code",
   "execution_count": 48,
   "metadata": {},
   "outputs": [
    {
     "name": "stdout",
     "output_type": "stream",
     "text": [
      "20\n"
     ]
    }
   ],
   "source": [
    "class Pessoa(object):\n",
    "\n",
    "    def __init__(self):\n",
    "        pass\n",
    "\n",
    "    def setIdade(self,idade):\n",
    "        self.__idade=idade\n",
    "      \n",
    "    def getIdade(self):\n",
    "        return self.__idade\n",
    "    \n",
    "pessoa=Pessoa()\n",
    "pessoa.setIdade(20)\n",
    "print(pessoa.getIdade())"
   ]
  },
  {
   "cell_type": "code",
   "execution_count": 91,
   "metadata": {},
   "outputs": [],
   "source": [
    "class Cliente(object):\n",
    "    def __init__(self,cadastro):\n",
    "        pass\n",
    "        "
   ]
  },
  {
   "cell_type": "code",
   "execution_count": 92,
   "metadata": {
    "scrolled": true
   },
   "outputs": [],
   "source": [
    "class PessoaJuridica(Cliente):\n",
    "    def __init__(self,cnpj):\n",
    "        self.cadastro = cnpj"
   ]
  },
  {
   "cell_type": "code",
   "execution_count": 93,
   "metadata": {},
   "outputs": [],
   "source": [
    "class PessoaFisica(Cliente):\n",
    "    def __init__(self,cpf):\n",
    "        self.cadastro = cpf"
   ]
  },
  {
   "cell_type": "code",
   "execution_count": 96,
   "metadata": {},
   "outputs": [
    {
     "name": "stdout",
     "output_type": "stream",
     "text": [
      "928930\n"
     ]
    }
   ],
   "source": [
    "empresa1=PessoaFisica(928930)\n",
    "print(empresa1.cadastro)"
   ]
  },
  {
   "cell_type": "code",
   "execution_count": 41,
   "metadata": {},
   "outputs": [],
   "source": [
    "class Conta(object):\n",
    "    def __init__(self,saldo):\n",
    "        pass\n",
    "        \n",
    "    def deposita(self,quantia):\n",
    "        self.set_saldo(self.get_saldo()+quantia)\n",
    "        \n",
    "    def set_saldo(self, saldo):\n",
    "        self.__saldo=saldo\n",
    "    \n",
    "    def get_saldo(self):\n",
    "        return self.__saldo\n",
    "    "
   ]
  },
  {
   "cell_type": "code",
   "execution_count": 42,
   "metadata": {},
   "outputs": [],
   "source": [
    "class CC(Conta):\n",
    "    def __init__(self):\n",
    "        pass\n",
    "    \n",
    "    def saca(self,quantia):\n",
    "        self.set_saldo(self.get_saldo() - quantia -1)"
   ]
  },
  {
   "cell_type": "code",
   "execution_count": 43,
   "metadata": {},
   "outputs": [],
   "source": [
    "class Poupanca(Conta):\n",
    "    def __init__(self):\n",
    "        pass\n",
    "         \n",
    "    def saca(self,quantia):\n",
    "        self.set_saldo(self.get_saldo() - quantia)"
   ]
  },
  {
   "cell_type": "code",
   "execution_count": 45,
   "metadata": {},
   "outputs": [
    {
     "name": "stdout",
     "output_type": "stream",
     "text": [
      "60\n"
     ]
    }
   ],
   "source": [
    "minhaConta=Poupanca()\n",
    "minhaConta.set_saldo(50)\n",
    "minhaConta.saca(10)\n",
    "minhaConta.deposita(20)\n",
    "\n",
    "print(minhaConta.get_saldo())"
   ]
  },
  {
   "cell_type": "markdown",
   "metadata": {},
   "source": [
    "### EXERCICIO"
   ]
  },
  {
   "cell_type": "code",
   "execution_count": 26,
   "metadata": {},
   "outputs": [
    {
     "name": "stdout",
     "output_type": "stream",
     "text": [
      "['e', 'para']\n",
      "['palavras', 'aleatorias', 'teste', 'excluir', 'algumas', 'palavras', 'ver', 'algoritmo', 'funciona', 'orientacao', 'objeto', 'entao']\n"
     ]
    },
    {
     "name": "stderr",
     "output_type": "stream",
     "text": [
      "[nltk_data] Downloading package stopwords to\n",
      "[nltk_data]     /home/leticia/nltk_data...\n",
      "[nltk_data]   Package stopwords is already up-to-date!\n",
      "[nltk_data] Downloading package stopwords to\n",
      "[nltk_data]     /home/leticia/nltk_data...\n",
      "[nltk_data]   Package stopwords is already up-to-date!\n"
     ]
    }
   ],
   "source": [
    "import numpy as np\n",
    "import nltk\n",
    "from nltk.corpus import stopwords\n",
    "import textdistance\n",
    "\n",
    "class Texto:\n",
    "    \n",
    "    def salva_sw(self,palavras):\n",
    "        nltk.download('stopwords')\n",
    "        language = \"portuguese\"\n",
    "        self.palavras_limpas=palavras\n",
    "        self.stopword=[]\n",
    "        for word in stopwords.words(language):\n",
    "            if word in palavras:\n",
    "                self.stopword.append(word)\n",
    "                self.palavras_limpas.remove(word)\n",
    "  \n",
    "            \n",
    "    def __init__(self,nome):\n",
    "        self.nome = nome\n",
    "        self.texto = open('Documentos/AULAS/exercicios/'+ self.nome + '.txt','r').read()\n",
    "        sem = str(self.texto).replace('\\n','')\n",
    "        self.palavras=sem.split(' ')\n",
    "\n",
    "    \n",
    "    def conta_ocorrencia(self,texto):\n",
    "        dic={}\n",
    "        for i in range(0,len(texto)):\n",
    "            if not texto[i] in dic:\n",
    "                dic[texto[i]]=1\n",
    "            else:  \n",
    "                #print('oi')\n",
    "                dic[texto[i]]+=1\n",
    "        #print(dic)\n",
    "        self.dicti = dic\n",
    "        \n",
    "    def top10(self,dic):\n",
    "          self.top10 = (sorted(dic.items(), key=lambda kv: kv[1]))[len(dic)-10:len(dic)]\n",
    "                \n",
    "            \n",
    "    def desv_media(self,dic):\n",
    "        a = list(dic.values())\n",
    "        self.media=np.mean(a)\n",
    "        self.desv=np.std(a)\n",
    "        \n",
    "    def grava_texto_sem_sw(self,palavras_limpas):\n",
    "        gravador=open('Documentos/AULAS/exercicios/oo_texto_teste.txt','w').write(str(palavras_limpas))\n",
    "        \n",
    "\n",
    "    def encontra_distancia(self, palavra1, palavra2):\n",
    "            x=textdistance.levenshtein('arrow', 'arowr')\n",
    "            print('A distancia entre as duas palavras eh' + str(x))\n",
    "        \n",
    "texto1 = Texto('oo_texto')\n",
    "\n",
    "palavra1='bolo'\n",
    "palavra2='bobo'\n",
    "texto1.salva_sw(texto1.palavras)\n",
    "texto1.conta_ocorrencia(texto1.palavras)\n",
    "texto1.salva_sw(texto1.palavras)\n",
    "#texto1.grava_texto_sem_sw(texto1.palavras_limpas)\n",
    "#texto1.encontra_distancia(palavra1, palavra2)\n",
    "\n",
    "texto1.top10(texto1.dicti)\n",
    "\n",
    "texto1.desv_media(texto1.dicti)\n",
    "\n",
    "\n",
    "\n",
    "#print(sorted(texto1.dicti.items(), key=lambda kv: kv[1]))\n",
    "#print(texto1.dicti)\n",
    "#print(texto1.top10)\n",
    "#print(texto1.media)\n",
    "#print(texto1.desv)\n",
    "\n",
    "print(texto1.stopword)\n",
    "print(texto1.palavras_limpas)\n"
   ]
  },
  {
   "cell_type": "markdown",
   "metadata": {},
   "source": [
    "### DESAFIO 2"
   ]
  },
  {
   "cell_type": "code",
   "execution_count": 67,
   "metadata": {},
   "outputs": [],
   "source": [
    "class Dados():\n",
    "    \n",
    "    lista=[]\n",
    "    \n",
    "    def __init__(self):\n",
    "        pass\n",
    "    \n",
    "    def setNome(self, nome):\n",
    "        self.__nome=nome\n",
    "    \n",
    "    def getNome(self):\n",
    "        return self.__nome\n",
    "    \n",
    "    def leArquivo(self):\n",
    "        lista_prov=(open('Documentos/AULAS/Python/'+ self.getNome() + '.csv','r').read())\n",
    "        line=lista_prov.split(\"\\n\")\n",
    "        lista=[]\n",
    "\n",
    "        for i in range(1,len(line)-1):\n",
    "            lista.append(line[i].split(\",\"))\n",
    "        self.__lista=lista\n",
    "        \n",
    "    def getLista(self):\n",
    "        return self.__lista\n",
    "        \n",
    "\n",
    "dadosIris=Dados()\n",
    "\n",
    "dadosIris.setNome('iris')\n",
    "dadosIris.leArquivo()\n",
    "\n",
    "#print(dadosIris.getLista())"
   ]
  },
  {
   "cell_type": "code",
   "execution_count": 17,
   "metadata": {},
   "outputs": [
    {
     "name": "stdout",
     "output_type": "stream",
     "text": [
      "Collecting textdistance\n",
      "  Downloading https://files.pythonhosted.org/packages/3f/18/31397b687f50ffae65469175f07faa68f288e27fcd8716276004c42e5637/textdistance-4.1.5-py3-none-any.whl\n",
      "Installing collected packages: textdistance\n",
      "Successfully installed textdistance-4.1.5\n"
     ]
    }
   ],
   "source": [
    "!pip install textdistance"
   ]
  },
  {
   "cell_type": "code",
   "execution_count": 4,
   "metadata": {},
   "outputs": [
    {
     "name": "stdout",
     "output_type": "stream",
     "text": [
      "/home/leticia\n",
      "Informacoes modificadas: filo = 14 classe = 16 ordem = 39 familia = 46 genero = 65 especie = 80\n",
      "Ultimo preenchimento na linha 5 : Especie\n",
      "Ultimo preenchimento na linha 29 : Familia\n",
      "Ultimo preenchimento na linha 30 : Genero\n",
      "Ultimo preenchimento na linha 31 : Especie\n",
      "Ultimo preenchimento na linha 62 : Filo\n",
      "Ultimo preenchimento na linha 87 : Filo\n",
      "Ultimo preenchimento na linha 123 : Filo\n",
      "Ultimo preenchimento na linha 141 : Filo\n",
      "Ultimo preenchimento na linha 146 : Filo\n",
      "Ultimo preenchimento na linha 148 : Especie\n",
      "Ultimo preenchimento na linha 150 : Especie\n",
      "Ultimo preenchimento na linha 175 : Especie\n",
      "Ultimo preenchimento na linha 176 : Filo\n",
      "Ultimo preenchimento na linha 177 : Especie\n",
      "Ultimo preenchimento na linha 178 : Genero\n",
      "Ultimo preenchimento na linha 179 : Genero\n",
      "Ultimo preenchimento na linha 180 : Familia\n",
      "Ultimo preenchimento na linha 181 : Genero\n",
      "Ultimo preenchimento na linha 184 : Classe\n",
      "Ultimo preenchimento na linha 185 : Genero\n",
      "Ultimo preenchimento na linha 187 : Filo\n",
      "Ultimo preenchimento na linha 188 : Ordem\n",
      "Ultimo preenchimento na linha 189 : Familia\n",
      "Ultimo preenchimento na linha 208 : Filo\n",
      "Ultimo preenchimento na linha 209 : Classe\n",
      "Ultimo preenchimento na linha 210 : Ordem\n",
      "Ultimo preenchimento na linha 211 : Familia\n",
      "Ultimo preenchimento na linha 212 : Genero\n",
      "Ultimo preenchimento na linha 213 : Especie\n",
      "Ultimo preenchimento na linha 218 : Filo\n",
      "Ultimo preenchimento na linha 219 : Ordem\n",
      "Ultimo preenchimento na linha 220 : Ordem\n",
      "Ultimo preenchimento na linha 221 : Filo\n",
      "Ultimo preenchimento na linha 222 : Filo\n",
      "Ultimo preenchimento na linha 247 : Especie\n",
      "Ultimo preenchimento na linha 281 : Ordem\n",
      "Ultimo preenchimento na linha 282 : Ordem\n",
      "Ultimo preenchimento na linha 283 : Ordem\n",
      "Ultimo preenchimento na linha 284 : Ordem\n",
      "Ultimo preenchimento na linha 285 : Ordem\n",
      "Ultimo preenchimento na linha 288 : Familia\n",
      "Ultimo preenchimento na linha 326 : Ordem\n",
      "Ultimo preenchimento na linha 338 : Ordem\n",
      "Ultimo preenchimento na linha 345 : Familia\n",
      "Ultimo preenchimento na linha 350 : Especie\n",
      "Ultimo preenchimento na linha 368 : Genero\n",
      "Ultimo preenchimento na linha 369 : Genero\n",
      "Ultimo preenchimento na linha 382 : Especie\n",
      "Ultimo preenchimento na linha 383 : Ordem\n",
      "Ultimo preenchimento na linha 384 : Ordem\n",
      "Ultimo preenchimento na linha 385 : Ordem\n",
      "Ultimo preenchimento na linha 386 : Ordem\n",
      "Ultimo preenchimento na linha 387 : Genero\n",
      "Ultimo preenchimento na linha 388 : Genero\n",
      "Ultimo preenchimento na linha 389 : Genero\n",
      "Ultimo preenchimento na linha 390 : Genero\n",
      "Ultimo preenchimento na linha 391 : Genero\n",
      "Ultimo preenchimento na linha 392 : Genero\n",
      "Ultimo preenchimento na linha 393 : Genero\n",
      "Ultimo preenchimento na linha 394 : Genero\n",
      "Ultimo preenchimento na linha 395 : Genero\n",
      "Ultimo preenchimento na linha 396 : Genero\n",
      "Ultimo preenchimento na linha 397 : Genero\n",
      "Ultimo preenchimento na linha 398 : Especie\n",
      "Ultimo preenchimento na linha 399 : Especie\n",
      "Ultimo preenchimento na linha 411 : Filo\n",
      "Ultimo preenchimento na linha 414 : Especie\n",
      "Ultimo preenchimento na linha 417 : Ordem\n",
      "Ultimo preenchimento na linha 418 : Ordem\n",
      "Ultimo preenchimento na linha 419 : Ordem\n",
      "Ultimo preenchimento na linha 420 : Ordem\n",
      "Ultimo preenchimento na linha 422 : Filo\n",
      "Ultimo preenchimento na linha 423 : Familia\n",
      "Ultimo preenchimento na linha 424 : Ordem\n",
      "Ultimo preenchimento na linha 425 : Ordem\n",
      "Ultimo preenchimento na linha 428 : Especie\n",
      "Ultimo preenchimento na linha 431 : Especie\n",
      "Ultimo preenchimento na linha 433 : Ordem\n",
      "Ultimo preenchimento na linha 434 : Filo\n",
      "Ultimo preenchimento na linha 477 : Ordem\n"
     ]
    }
   ],
   "source": [
    "!pwd\n",
    "class RegistroBio():\n",
    "\n",
    "    def __init__(self):\n",
    "        self.lista = []\n",
    "        self.__nome = \"\"\n",
    "        pass\n",
    "    \n",
    "    def setNome(self, nome):\n",
    "        self.__nome=nome\n",
    "    \n",
    "    def getNome(self):\n",
    "        return self.__nome\n",
    "    \n",
    "    def leArquivo(self):\n",
    "        lista_prov = (open('Documentos/AULAS/exercicios/'+ \"{}.csv\".format(self.getNome()),'r').read())\n",
    "        line = lista_prov.split(\"\\n\")\n",
    "        lista = []\n",
    "        \n",
    "        for i in range(0,len(line)-1):\n",
    "            lista.append(line[i].split(\";\")[16:22])\n",
    "        self.__lista = lista\n",
    "        \n",
    "        #print(len(lista))\n",
    "        \n",
    "    def manipulaDados(self,lista):\n",
    "        #print(lista)\n",
    "        x=[0,0,0,0,0,0]\n",
    "        for linha in lista:\n",
    "            for item in linha:\n",
    "                if (type(item)==int or item=='Sem Informações'):\n",
    "                    #print('info falsa')\n",
    "                    i=linha.index(item)\n",
    "                    x[i]=x[i]+1\n",
    "                    lista[lista.index(linha)][linha.index(item)]=item.replace(item,'')\n",
    "                    #dando replace nos indices de cada linha e cada item  \n",
    "   \n",
    "        gravador=open('Documentos/AULAS/exercicios/biolimpo.csv','w').write(str(lista))\n",
    "        #print(lista)\n",
    "        print('Informacoes modificadas: filo =',x[0],'classe =',x[1],'ordem =',x[2],'familia =',x[3],'genero =',x[4],'especie =',x[5])\n",
    "        self.__lista=lista\n",
    "        \n",
    "    def getLista(self):\n",
    "        return self.__lista\n",
    "    \n",
    "    def analisaPreenchimento(self,lista):\n",
    "        \n",
    "        for i in range(len(lista)):\n",
    "            #print(lista.index(linha))\n",
    "            for item in lista[i]:\n",
    "                if (item==''):\n",
    "                    #print('oi')\n",
    "                    inn=lista[i].index(item)\n",
    "                    ultimo_preenchimento=lista[0][inn]\n",
    "                    print('Ultimo preenchimento na linha',i,':',ultimo_preenchimento)\n",
    "                    break\n",
    "          \n",
    "\n",
    "dados1 = RegistroBio()\n",
    "dados1.setNome('bio')\n",
    "dados1.leArquivo()\n",
    "dados1.manipulaDados(dados1.getLista())\n",
    "dados1.analisaPreenchimento(dados1.getLista())\n",
    "\n",
    "#print(dados1.getLista())"
   ]
  },
  {
   "cell_type": "code",
   "execution_count": 5,
   "metadata": {},
   "outputs": [
    {
     "name": "stdout",
     "output_type": "stream",
     "text": [
      "<class 'int'>\n"
     ]
    }
   ],
   "source": [
    "x=3\n",
    "print(type(x))\n"
   ]
  },
  {
   "cell_type": "code",
   "execution_count": null,
   "metadata": {},
   "outputs": [],
   "source": []
  }
 ],
 "metadata": {
  "kernelspec": {
   "display_name": "Python [conda env:ambi] *",
   "language": "python",
   "name": "conda-env-ambi-py"
  },
  "language_info": {
   "codemirror_mode": {
    "name": "ipython",
    "version": 3
   },
   "file_extension": ".py",
   "mimetype": "text/x-python",
   "name": "python",
   "nbconvert_exporter": "python",
   "pygments_lexer": "ipython3",
   "version": "3.7.4"
  }
 },
 "nbformat": 4,
 "nbformat_minor": 2
}
