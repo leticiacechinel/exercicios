{
 "cells": [
  {
   "cell_type": "markdown",
   "metadata": {},
   "source": [
    "## ESSA LISTA TEM AS SOLUCOES E TBM ALGUNS EXEMPLOS DA AULA 2 NO MEIO"
   ]
  },
  {
   "cell_type": "code",
   "execution_count": 5,
   "metadata": {},
   "outputs": [
    {
     "name": "stdout",
     "output_type": "stream",
     "text": [
      "nao pode\n"
     ]
    }
   ],
   "source": [
    "idade=15\n",
    "peso=60\n",
    "horas_sono=10\n",
    "\n",
    "\n",
    "a=idade>16\n",
    "b=peso>50\n",
    "c=horas_sono>8\n",
    "\n",
    "if (a and b and c) :\n",
    "    print('pode doar')\n",
    "else :\n",
    "    print('nao pode')\n"
   ]
  },
  {
   "cell_type": "code",
   "execution_count": 4,
   "metadata": {},
   "outputs": [
    {
     "name": "stdout",
     "output_type": "stream",
     "text": [
      "duas raizes reais\n"
     ]
    }
   ],
   "source": [
    "a=3\n",
    "b=2\n",
    "c=-1\n",
    "\n",
    "delta=b^2-4*a*c\n",
    "\n",
    "if delta ==0 :\n",
    "    print('tem uma raiz')\n",
    "elif delta>0 :\n",
    "    print('duas raizes reais')\n",
    "else :\n",
    "    print('raizes imaginarias')\n",
    "    "
   ]
  },
  {
   "cell_type": "code",
   "execution_count": 30,
   "metadata": {},
   "outputs": [
    {
     "name": "stdout",
     "output_type": "stream",
     "text": [
      "[3, 6, 9, 177, 90, 60]\n"
     ]
    }
   ],
   "source": [
    "lista=[1,2,3,59,30,20]\n",
    "\n",
    "#lista.append('teste')\n",
    "\n",
    "a=[3*x for x in lista]\n",
    "#lista.sort()\n",
    "\n",
    "print(a)"
   ]
  },
  {
   "cell_type": "code",
   "execution_count": 36,
   "metadata": {},
   "outputs": [
    {
     "name": "stdout",
     "output_type": "stream",
     "text": [
      "dict_keys(['Leticia', 'Vini', 'Mae'])\n",
      "dict_values([24, 22, 50])\n"
     ]
    }
   ],
   "source": [
    "marks={'Leticia':24, 'Vini':22, 'Mae':50}\n",
    "print(marks.keys())\n",
    "print(marks.values())"
   ]
  },
  {
   "cell_type": "code",
   "execution_count": 54,
   "metadata": {},
   "outputs": [
    {
     "name": "stdout",
     "output_type": "stream",
     "text": [
      "digite um numero\n",
      "3\n",
      "o numero escolhido eh 3\n",
      "[9, 1, 8]\n"
     ]
    }
   ],
   "source": [
    "import random\n",
    "print('digite um numero')\n",
    "n=int(input())\n",
    "print('o numero de elementos eh', n)\n",
    "lista=[]\n",
    "\n",
    "for i in range(0,n):\n",
    "\n",
    "    lista.append(random.randrange(1,10))\n",
    "    \n",
    "    \n",
    "print(lista)\n",
    "    "
   ]
  },
  {
   "cell_type": "code",
   "execution_count": 69,
   "metadata": {},
   "outputs": [
    {
     "name": "stdout",
     "output_type": "stream",
     "text": [
      "Leonardo\n",
      "Andre\n",
      "Cristiano\n",
      "Savio\n",
      "Alessandra\n",
      "Wana\n",
      "Lucas\n",
      "Rafael\n",
      "Jessica\n",
      "Leticia\n",
      "Alexandre\n",
      "Gabriel\n",
      "Lazaro\n",
      "Bruna\n",
      "Vitor\n"
     ]
    }
   ],
   "source": [
    "listaNome=['Leonardo', 'Andre', 'Cristiano', 'Daniel', 'Savio', 'Alessandra', 'Wana', 'Lucas', \n",
    "           'Rafael', 'Jessica', 'Leticia', 'Alexandre', 'Gabriel', 'Lazaro', 'Bruna', 'Vitor']\n",
    "letraExcl='D'\n",
    "for i in range (0,len(listaNome)) :\n",
    "    nome=listaNome[i]\n",
    "    primLetra=nome[0:1]\n",
    "    #print(primLetra)\n",
    "    if primLetra!=letraExcl :\n",
    "        print(listaNome[i])"
   ]
  },
  {
   "cell_type": "code",
   "execution_count": 2,
   "metadata": {},
   "outputs": [
    {
     "name": "stdout",
     "output_type": "stream",
     "text": [
      "29\n"
     ]
    }
   ],
   "source": [
    "num1=14\n",
    "num2=7\n",
    "\n",
    "if ((num1+num2)>20):\n",
    "    total=num1+num2+8\n",
    "else:\n",
    "    total=num1+num2-5\n",
    "    \n",
    "print(total)"
   ]
  },
  {
   "cell_type": "code",
   "execution_count": 9,
   "metadata": {},
   "outputs": [
    {
     "name": "stdout",
     "output_type": "stream",
     "text": [
      "9\n"
     ]
    }
   ],
   "source": [
    "numero=-3\n",
    "\n",
    "if numero>=0 :\n",
    "    resultado=numero**0.5\n",
    "else:\n",
    "    resultado=numero*numero\n",
    "    \n",
    "print(resultado)"
   ]
  },
  {
   "cell_type": "code",
   "execution_count": 22,
   "metadata": {},
   "outputs": [
    {
     "name": "stdout",
     "output_type": "stream",
     "text": [
      "Digite um numero para imprimir o mes correspondente\n",
      "3\n",
      "Esse numero corresponde ao mes Marco\n"
     ]
    }
   ],
   "source": [
    "meses={1:'Janeiro',2:'Fevereiro',3:'Marco', 4:'Abril', 5:'Maio', 6:'Junho',7: 'Julho',\n",
    "       8:'Agosto', 9:'Setembro', 10:'Outubro', 11:'Novembro', 12:'Dezembro'}\n",
    "\n",
    "print('Digite um numero para imprimir o mes correspondente')\n",
    "mesEscolhido=int(input())\n",
    "\n",
    "if (mesEscolhido <=12 and mesEscolhido>0):\n",
    "    print('Esse numero corresponde ao mes', meses[mesEscolhido])\n",
    "else :\n",
    "    print('O mes relativo a esse numero nao existe. Digite um numero entre 1 e 12.')"
   ]
  },
  {
   "cell_type": "markdown",
   "metadata": {},
   "source": [
    "### FIM LISTA 2"
   ]
  },
  {
   "cell_type": "code",
   "execution_count": null,
   "metadata": {},
   "outputs": [],
   "source": []
  }
 ],
 "metadata": {
  "kernelspec": {
   "display_name": "Python [conda env:ambi] *",
   "language": "python",
   "name": "conda-env-ambi-py"
  },
  "language_info": {
   "codemirror_mode": {
    "name": "ipython",
    "version": 3
   },
   "file_extension": ".py",
   "mimetype": "text/x-python",
   "name": "python",
   "nbconvert_exporter": "python",
   "pygments_lexer": "ipython3",
   "version": "3.7.4"
  }
 },
 "nbformat": 4,
 "nbformat_minor": 2
}
