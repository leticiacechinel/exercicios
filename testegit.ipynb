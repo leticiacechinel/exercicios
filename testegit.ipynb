teste para adicionar arquivo pelo git
