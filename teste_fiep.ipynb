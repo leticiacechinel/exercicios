{
 "cells": [
  {
   "cell_type": "markdown",
   "metadata": {
    "slideshow": {
     "slide_type": "slide"
    }
   },
   "source": [
    "# Dez grandes momentos da televisao brasileira"
   ]
  },
  {
   "cell_type": "markdown",
   "metadata": {
    "slideshow": {
     "slide_type": "slide"
    }
   },
   "source": [
    "![flor, vc gosta do raca negra?](https://i.ytimg.com/vi/kXxQbkhT7RQ/maxresdefault.jpg)"
   ]
  },
  {
   "cell_type": "markdown",
   "metadata": {
    "slideshow": {
     "slide_type": "slide"
    }
   },
   "source": [
    "![ta pegando fogo, bicho](http://pm1.narvii.com/6463/3c9b6c141c6d1b84fcc6b81a675b81fc6e65475a_00.jpg)"
   ]
  },
  {
   "cell_type": "markdown",
   "metadata": {
    "slideshow": {
     "slide_type": "slide"
    }
   },
   "source": [
    "![nem sei o que dizer sobre esse](http://www.pragmatismopolitico.com.br/wp-content/uploads/2016/07/gloria-maria-maconha.jpg)"
   ]
  },
  {
   "cell_type": "markdown",
   "metadata": {
    "slideshow": {
     "slide_type": "slide"
    }
   },
   "source": [
    "![nao sou capaz de opinar](https://ogimg.infoglobo.com.br/in/18772744-90b-c77/FT1086A/652/Screenshot_3.jpg)"
   ]
  },
  {
   "cell_type": "markdown",
   "metadata": {
    "slideshow": {
     "slide_type": "slide"
    }
   },
   "source": [
    "![eu fico com a pureza da resposta das criancas](https://img.buzzfeed.com/buzzfeed-static/static/2014-11/19/13/enhanced/webdr06/enhanced-15111-1416420776-27.jpg?downsize=700:*&output-format=auto&output-quality=auto)"
   ]
  },
  {
   "cell_type": "markdown",
   "metadata": {
    "slideshow": {
     "slide_type": "slide"
    }
   },
   "source": [
    "![eh um pais da europa](https://i.ytimg.com/vi/TJGraZgx7Ns/maxresdefault.jpg)"
   ]
  },
  {
   "cell_type": "markdown",
   "metadata": {
    "slideshow": {
     "slide_type": "slide"
    }
   },
   "source": [
    "![Dava pra fazer um top 10 so de casos de familia, na verdade](https://media.gazetadopovo.com.br/vozes/2017/06/meme-viral-espacate-casos-de-familia-600x335-5badcee6.png)"
   ]
  },
  {
   "cell_type": "markdown",
   "metadata": {
    "slideshow": {
     "slide_type": "slide"
    }
   },
   "source": [
    "![hoje eh dia de rock, bb](https://www.estrelando.com.br/uploads/2015/09/17/1-1442499538.gallery.jpg)"
   ]
  },
  {
   "cell_type": "markdown",
   "metadata": {
    "slideshow": {
     "slide_type": "slide"
    }
   },
   "source": [
    "![A reportagem que mais agregou ao povo brasileiro](https://pbs.twimg.com/media/Cihpif4WsAAkyYN.jpg)"
   ]
  },
  {
   "cell_type": "markdown",
   "metadata": {
    "slideshow": {
     "slide_type": "slide"
    }
   },
   "source": [
    "![fechando com um classico](https://imagens1.ne10.uol.com.br/blogsne10/social1/uploads/2016/06/morre-diabo.jpg)"
   ]
  },
  {
   "cell_type": "code",
   "execution_count": null,
   "metadata": {},
   "outputs": [],
   "source": [
    "sudo apt-get install texlive-xetex\n",
    "\n"
   ]
  }
 ],
 "metadata": {
  "celltoolbar": "Slideshow",
  "kernelspec": {
   "display_name": "Python [conda env:ambi] *",
   "language": "python",
   "name": "conda-env-ambi-py"
  },
  "language_info": {
   "codemirror_mode": {
    "name": "ipython",
    "version": 3
   },
   "file_extension": ".py",
   "mimetype": "text/x-python",
   "name": "python",
   "nbconvert_exporter": "python",
   "pygments_lexer": "ipython3",
   "version": "3.7.4"
  }
 },
 "nbformat": 4,
 "nbformat_minor": 2
}
